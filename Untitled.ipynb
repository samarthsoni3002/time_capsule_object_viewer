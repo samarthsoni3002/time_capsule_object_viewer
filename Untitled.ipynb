{
 "cells": [
  {
   "cell_type": "code",
   "execution_count": 13,
   "id": "8df65d50",
   "metadata": {},
   "outputs": [
    {
     "name": "stdout",
     "output_type": "stream",
     "text": [
      "Requirement already satisfied: duckduckgo_search in /home/samarth/.local/lib/python3.8/site-packages (2.8.6)\n",
      "Requirement already satisfied: click>=8.1.3 in /home/samarth/.local/lib/python3.8/site-packages (from duckduckgo_search) (8.1.3)\n",
      "Requirement already satisfied: requests>=2.28.2 in /home/samarth/.local/lib/python3.8/site-packages (from duckduckgo_search) (2.28.2)\n",
      "Requirement already satisfied: charset-normalizer<4,>=2 in /home/samarth/.local/lib/python3.8/site-packages (from requests>=2.28.2->duckduckgo_search) (3.1.0)\n",
      "Requirement already satisfied: idna<4,>=2.5 in /usr/lib/python3/dist-packages (from requests>=2.28.2->duckduckgo_search) (2.8)\n",
      "Requirement already satisfied: urllib3<1.27,>=1.21.1 in /usr/lib/python3/dist-packages (from requests>=2.28.2->duckduckgo_search) (1.25.8)\n",
      "Requirement already satisfied: certifi>=2017.4.17 in /usr/lib/python3/dist-packages (from requests>=2.28.2->duckduckgo_search) (2019.11.28)\n",
      "Note: you may need to restart the kernel to use updated packages.\n"
     ]
    }
   ],
   "source": [
    "pip install duckduckgo_search"
   ]
  },
  {
   "cell_type": "code",
   "execution_count": 14,
   "id": "cf89da75",
   "metadata": {},
   "outputs": [
    {
     "name": "stdout",
     "output_type": "stream",
     "text": [
      "Collecting fastcore\n",
      "  Downloading fastcore-1.5.29-py3-none-any.whl (67 kB)\n",
      "\u001b[K     |████████████████████████████████| 67 kB 658 kB/s eta 0:00:011\n",
      "\u001b[?25hRequirement already satisfied: packaging in /home/samarth/.local/lib/python3.8/site-packages (from fastcore) (23.1)\n",
      "Requirement already satisfied: pip in /usr/lib/python3/dist-packages (from fastcore) (20.0.2)\n",
      "Installing collected packages: fastcore\n",
      "Successfully installed fastcore-1.5.29\n",
      "Note: you may need to restart the kernel to use updated packages.\n"
     ]
    }
   ],
   "source": [
    "pip install fastcore"
   ]
  },
  {
   "cell_type": "code",
   "execution_count": 21,
   "id": "802c4415",
   "metadata": {},
   "outputs": [
    {
     "name": "stdout",
     "output_type": "stream",
     "text": [
      "Collecting fastai\n",
      "  Using cached fastai-2.7.12-py3-none-any.whl (233 kB)\n",
      "Requirement already satisfied: pyyaml in /usr/lib/python3/dist-packages (from fastai) (5.3.1)\n",
      "Collecting scikit-learn\n",
      "  Using cached scikit_learn-1.2.2-cp38-cp38-manylinux_2_17_x86_64.manylinux2014_x86_64.whl (9.8 MB)\n",
      "Collecting torch<2.1,>=1.7\n",
      "  Using cached torch-2.0.0-cp38-cp38-manylinux1_x86_64.whl (619.9 MB)\n",
      "Collecting fastprogress>=0.2.4\n",
      "  Using cached fastprogress-1.0.3-py3-none-any.whl (12 kB)\n",
      "Requirement already satisfied: pillow>6.0.0 in /usr/lib/python3/dist-packages (from fastai) (7.0.0)\n",
      "Requirement already satisfied: pip in /usr/lib/python3/dist-packages (from fastai) (20.0.2)\n",
      "Requirement already satisfied: packaging in /home/samarth/.local/lib/python3.8/site-packages (from fastai) (23.1)\n",
      "Collecting matplotlib\n",
      "  Using cached matplotlib-3.7.1-cp38-cp38-manylinux_2_12_x86_64.manylinux2010_x86_64.whl (9.2 MB)\n",
      "Collecting scipy\n",
      "  Using cached scipy-1.10.1-cp38-cp38-manylinux_2_17_x86_64.manylinux2014_x86_64.whl (34.5 MB)\n",
      "Collecting pandas\n",
      "  Using cached pandas-2.0.0-cp38-cp38-manylinux_2_17_x86_64.manylinux2014_x86_64.whl (12.3 MB)\n",
      "Collecting fastdownload<2,>=0.0.5\n",
      "  Using cached fastdownload-0.0.7-py3-none-any.whl (12 kB)\n",
      "Requirement already satisfied: fastcore<1.6,>=1.5.29 in /home/samarth/.local/lib/python3.8/site-packages (from fastai) (1.5.29)\n",
      "Collecting torchvision>=0.8.2\n",
      "  Using cached torchvision-0.15.1-cp38-cp38-manylinux1_x86_64.whl (33.8 MB)\n",
      "Collecting spacy<4\n",
      "  Using cached spacy-3.5.2-cp38-cp38-manylinux_2_17_x86_64.manylinux2014_x86_64.whl (6.8 MB)\n",
      "Requirement already satisfied: requests in /home/samarth/.local/lib/python3.8/site-packages (from fastai) (2.28.2)\n",
      "Collecting threadpoolctl>=2.0.0\n",
      "  Using cached threadpoolctl-3.1.0-py3-none-any.whl (14 kB)\n",
      "Collecting joblib>=1.1.1\n",
      "  Using cached joblib-1.2.0-py3-none-any.whl (297 kB)\n",
      "Collecting numpy>=1.17.3\n",
      "  Using cached numpy-1.24.2-cp38-cp38-manylinux_2_17_x86_64.manylinux2014_x86_64.whl (17.3 MB)\n",
      "Collecting nvidia-nvtx-cu11==11.7.91; platform_system == \"Linux\" and platform_machine == \"x86_64\"\n",
      "  Using cached nvidia_nvtx_cu11-11.7.91-py3-none-manylinux1_x86_64.whl (98 kB)\n",
      "Collecting nvidia-cublas-cu11==11.10.3.66; platform_system == \"Linux\" and platform_machine == \"x86_64\"\n",
      "  Using cached nvidia_cublas_cu11-11.10.3.66-py3-none-manylinux1_x86_64.whl (317.1 MB)\n",
      "Collecting nvidia-curand-cu11==10.2.10.91; platform_system == \"Linux\" and platform_machine == \"x86_64\"\n",
      "  Using cached nvidia_curand_cu11-10.2.10.91-py3-none-manylinux1_x86_64.whl (54.6 MB)\n",
      "Collecting nvidia-cuda-nvrtc-cu11==11.7.99; platform_system == \"Linux\" and platform_machine == \"x86_64\"\n",
      "  Using cached nvidia_cuda_nvrtc_cu11-11.7.99-2-py3-none-manylinux1_x86_64.whl (21.0 MB)\n",
      "Collecting nvidia-cusparse-cu11==11.7.4.91; platform_system == \"Linux\" and platform_machine == \"x86_64\"\n",
      "  Using cached nvidia_cusparse_cu11-11.7.4.91-py3-none-manylinux1_x86_64.whl (173.2 MB)\n",
      "Collecting nvidia-cusolver-cu11==11.4.0.1; platform_system == \"Linux\" and platform_machine == \"x86_64\"\n",
      "  Using cached nvidia_cusolver_cu11-11.4.0.1-2-py3-none-manylinux1_x86_64.whl (102.6 MB)\n",
      "Collecting triton==2.0.0; platform_system == \"Linux\" and platform_machine == \"x86_64\"\n",
      "  Using cached triton-2.0.0-1-cp38-cp38-manylinux2014_x86_64.manylinux_2_17_x86_64.whl (63.2 MB)\n",
      "Collecting nvidia-cufft-cu11==10.9.0.58; platform_system == \"Linux\" and platform_machine == \"x86_64\"\n",
      "  Using cached nvidia_cufft_cu11-10.9.0.58-py3-none-manylinux1_x86_64.whl (168.4 MB)\n",
      "Collecting nvidia-nccl-cu11==2.14.3; platform_system == \"Linux\" and platform_machine == \"x86_64\"\n",
      "  Using cached nvidia_nccl_cu11-2.14.3-py3-none-manylinux1_x86_64.whl (177.1 MB)\n",
      "Collecting nvidia-cuda-cupti-cu11==11.7.101; platform_system == \"Linux\" and platform_machine == \"x86_64\"\n",
      "  Using cached nvidia_cuda_cupti_cu11-11.7.101-py3-none-manylinux1_x86_64.whl (11.8 MB)\n",
      "Collecting nvidia-cudnn-cu11==8.5.0.96; platform_system == \"Linux\" and platform_machine == \"x86_64\"\n",
      "  Using cached nvidia_cudnn_cu11-8.5.0.96-2-py3-none-manylinux1_x86_64.whl (557.1 MB)\n",
      "Collecting filelock\n",
      "  Downloading filelock-3.12.0-py3-none-any.whl (10 kB)\n",
      "Collecting sympy\n",
      "  Downloading sympy-1.11.1-py3-none-any.whl (6.5 MB)\n",
      "\u001b[K     |████████████████████████████████| 6.5 MB 495 kB/s eta 0:00:01\n",
      "\u001b[?25hCollecting nvidia-cuda-runtime-cu11==11.7.99; platform_system == \"Linux\" and platform_machine == \"x86_64\"\n",
      "  Using cached nvidia_cuda_runtime_cu11-11.7.99-py3-none-manylinux1_x86_64.whl (849 kB)\n",
      "Requirement already satisfied: typing-extensions in /home/samarth/.local/lib/python3.8/site-packages (from torch<2.1,>=1.7->fastai) (4.5.0)\n",
      "Requirement already satisfied: jinja2 in /home/samarth/.local/lib/python3.8/site-packages (from torch<2.1,>=1.7->fastai) (3.1.2)\n",
      "Collecting networkx\n",
      "  Downloading networkx-3.1-py3-none-any.whl (2.1 MB)\n",
      "\u001b[K     |████████████████████████████████| 2.1 MB 563 kB/s eta 0:00:01\n",
      "\u001b[?25hCollecting pyparsing>=2.3.1\n",
      "  Using cached pyparsing-3.0.9-py3-none-any.whl (98 kB)\n",
      "Collecting cycler>=0.10\n",
      "  Using cached cycler-0.11.0-py3-none-any.whl (6.4 kB)\n",
      "Collecting contourpy>=1.0.1\n",
      "  Using cached contourpy-1.0.7-cp38-cp38-manylinux_2_17_x86_64.manylinux2014_x86_64.whl (300 kB)\n",
      "Collecting kiwisolver>=1.0.1\n",
      "  Using cached kiwisolver-1.4.4-cp38-cp38-manylinux_2_5_x86_64.manylinux1_x86_64.whl (1.2 MB)\n",
      "Collecting fonttools>=4.22.0\n",
      "  Using cached fonttools-4.39.3-py3-none-any.whl (1.0 MB)\n",
      "Requirement already satisfied: importlib-resources>=3.2.0; python_version < \"3.10\" in /home/samarth/.local/lib/python3.8/site-packages (from matplotlib->fastai) (5.12.0)\n",
      "Requirement already satisfied: python-dateutil>=2.7 in /home/samarth/.local/lib/python3.8/site-packages (from matplotlib->fastai) (2.8.2)\n",
      "Collecting tzdata>=2022.1\n",
      "  Using cached tzdata-2023.3-py2.py3-none-any.whl (341 kB)\n",
      "Collecting pytz>=2020.1\n",
      "  Using cached pytz-2023.3-py2.py3-none-any.whl (502 kB)\n",
      "Collecting spacy-loggers<2.0.0,>=1.0.0\n",
      "  Using cached spacy_loggers-1.0.4-py3-none-any.whl (11 kB)\n",
      "Collecting langcodes<4.0.0,>=3.2.0\n",
      "  Using cached langcodes-3.3.0-py3-none-any.whl (181 kB)\n",
      "Collecting cymem<2.1.0,>=2.0.2\n",
      "  Using cached cymem-2.0.7-cp38-cp38-manylinux_2_17_x86_64.manylinux2014_x86_64.whl (36 kB)\n",
      "Collecting spacy-legacy<3.1.0,>=3.0.11\n",
      "  Using cached spacy_legacy-3.0.12-py2.py3-none-any.whl (29 kB)\n",
      "Collecting pathy>=0.10.0\n",
      "  Using cached pathy-0.10.1-py3-none-any.whl (48 kB)\n",
      "Collecting tqdm<5.0.0,>=4.38.0\n",
      "  Using cached tqdm-4.65.0-py3-none-any.whl (77 kB)\n",
      "Collecting srsly<3.0.0,>=2.4.3\n",
      "  Using cached srsly-2.4.6-cp38-cp38-manylinux_2_17_x86_64.manylinux2014_x86_64.whl (493 kB)\n",
      "Collecting catalogue<2.1.0,>=2.0.6\n",
      "  Using cached catalogue-2.0.8-py3-none-any.whl (17 kB)\n",
      "Collecting preshed<3.1.0,>=3.0.2\n",
      "  Using cached preshed-3.0.8-cp38-cp38-manylinux_2_5_x86_64.manylinux1_x86_64.manylinux_2_17_x86_64.manylinux2014_x86_64.whl (130 kB)\n",
      "Collecting pydantic!=1.8,!=1.8.1,<1.11.0,>=1.7.4\n",
      "  Using cached pydantic-1.10.7-cp38-cp38-manylinux_2_17_x86_64.manylinux2014_x86_64.whl (3.2 MB)\n",
      "Collecting smart-open<7.0.0,>=5.2.1\n",
      "  Using cached smart_open-6.3.0-py3-none-any.whl (56 kB)\n",
      "Collecting murmurhash<1.1.0,>=0.28.0\n",
      "  Using cached murmurhash-1.0.9-cp38-cp38-manylinux_2_5_x86_64.manylinux1_x86_64.manylinux_2_17_x86_64.manylinux2014_x86_64.whl (21 kB)\n",
      "Collecting thinc<8.2.0,>=8.1.8\n",
      "  Using cached thinc-8.1.9-cp38-cp38-manylinux_2_17_x86_64.manylinux2014_x86_64.whl (925 kB)\n",
      "Collecting wasabi<1.2.0,>=0.9.1\n",
      "  Using cached wasabi-1.1.1-py3-none-any.whl (27 kB)\n",
      "Requirement already satisfied: setuptools in /usr/lib/python3/dist-packages (from spacy<4->fastai) (45.2.0)\n",
      "Collecting typer<0.8.0,>=0.3.0\n",
      "  Using cached typer-0.7.0-py3-none-any.whl (38 kB)\n",
      "Requirement already satisfied: urllib3<1.27,>=1.21.1 in /usr/lib/python3/dist-packages (from requests->fastai) (1.25.8)\n",
      "Requirement already satisfied: certifi>=2017.4.17 in /usr/lib/python3/dist-packages (from requests->fastai) (2019.11.28)\n",
      "Requirement already satisfied: idna<4,>=2.5 in /usr/lib/python3/dist-packages (from requests->fastai) (2.8)\n",
      "Requirement already satisfied: charset-normalizer<4,>=2 in /home/samarth/.local/lib/python3.8/site-packages (from requests->fastai) (3.1.0)\n",
      "Requirement already satisfied: wheel in /usr/lib/python3/dist-packages (from nvidia-nvtx-cu11==11.7.91; platform_system == \"Linux\" and platform_machine == \"x86_64\"->torch<2.1,>=1.7->fastai) (0.34.2)\n"
     ]
    },
    {
     "name": "stdout",
     "output_type": "stream",
     "text": [
      "Collecting lit\n",
      "  Using cached lit-16.0.1.tar.gz (137 kB)\n",
      "Collecting cmake\n",
      "  Using cached cmake-3.26.3-py2.py3-none-manylinux2014_x86_64.manylinux_2_17_x86_64.whl (24.0 MB)\n",
      "Collecting mpmath>=0.19\n",
      "  Downloading mpmath-1.3.0-py3-none-any.whl (536 kB)\n",
      "\u001b[K     |████████████████████████████████| 536 kB 244 kB/s eta 0:00:01\n",
      "\u001b[?25hRequirement already satisfied: MarkupSafe>=2.0 in /home/samarth/.local/lib/python3.8/site-packages (from jinja2->torch<2.1,>=1.7->fastai) (2.1.2)\n",
      "Requirement already satisfied: zipp>=3.1.0; python_version < \"3.10\" in /home/samarth/.local/lib/python3.8/site-packages (from importlib-resources>=3.2.0; python_version < \"3.10\"->matplotlib->fastai) (3.15.0)\n",
      "Requirement already satisfied: six>=1.5 in /usr/lib/python3/dist-packages (from python-dateutil>=2.7->matplotlib->fastai) (1.14.0)\n",
      "Collecting blis<0.8.0,>=0.7.8\n",
      "  Downloading blis-0.7.9-cp38-cp38-manylinux_2_17_x86_64.manylinux2014_x86_64.whl (10.2 MB)\n",
      "\u001b[K     |████████████████████████████████| 10.2 MB 565 kB/s eta 0:00:01\n",
      "\u001b[?25hCollecting confection<1.0.0,>=0.0.1\n",
      "  Using cached confection-0.0.4-py3-none-any.whl (32 kB)\n",
      "Requirement already satisfied: click<9.0.0,>=7.1.1 in /home/samarth/.local/lib/python3.8/site-packages (from typer<0.8.0,>=0.3.0->spacy<4->fastai) (8.1.3)\n",
      "Building wheels for collected packages: lit\n",
      "  Building wheel for lit (setup.py) ... \u001b[?25ldone\n",
      "\u001b[?25h  Created wheel for lit: filename=lit-16.0.1-py3-none-any.whl size=88190 sha256=e6f20b14da7ff392cb1234ddf1a9194e9db955c567ab2c3f793165c1e7d144af\n",
      "  Stored in directory: /home/samarth/.cache/pip/wheels/12/14/ba/87be46a564f97692e6cd1f6d7a1deeb5bff2821d45a52e8d7a\n",
      "Successfully built lit\n",
      "Installing collected packages: threadpoolctl, numpy, scipy, joblib, scikit-learn, nvidia-nvtx-cu11, nvidia-cublas-cu11, nvidia-curand-cu11, nvidia-cuda-nvrtc-cu11, nvidia-cusparse-cu11, nvidia-cusolver-cu11, lit, cmake, filelock, triton, nvidia-cufft-cu11, nvidia-nccl-cu11, nvidia-cuda-cupti-cu11, nvidia-cudnn-cu11, mpmath, sympy, nvidia-cuda-runtime-cu11, networkx, torch, fastprogress, pyparsing, cycler, contourpy, kiwisolver, fonttools, matplotlib, tzdata, pytz, pandas, fastdownload, torchvision, spacy-loggers, langcodes, cymem, spacy-legacy, typer, smart-open, pathy, tqdm, catalogue, srsly, murmurhash, preshed, pydantic, wasabi, blis, confection, thinc, spacy, fastai\n",
      "Successfully installed blis-0.7.9 catalogue-2.0.8 cmake-3.26.3 confection-0.0.4 contourpy-1.0.7 cycler-0.11.0 cymem-2.0.7 fastai-2.7.12 fastdownload-0.0.7 fastprogress-1.0.3 filelock-3.12.0 fonttools-4.39.3 joblib-1.2.0 kiwisolver-1.4.4 langcodes-3.3.0 lit-16.0.1 matplotlib-3.7.1 mpmath-1.3.0 murmurhash-1.0.9 networkx-3.1 numpy-1.24.2 nvidia-cublas-cu11-11.10.3.66 nvidia-cuda-cupti-cu11-11.7.101 nvidia-cuda-nvrtc-cu11-11.7.99 nvidia-cuda-runtime-cu11-11.7.99 nvidia-cudnn-cu11-8.5.0.96 nvidia-cufft-cu11-10.9.0.58 nvidia-curand-cu11-10.2.10.91 nvidia-cusolver-cu11-11.4.0.1 nvidia-cusparse-cu11-11.7.4.91 nvidia-nccl-cu11-2.14.3 nvidia-nvtx-cu11-11.7.91 pandas-2.0.0 pathy-0.10.1 preshed-3.0.8 pydantic-1.10.7 pyparsing-3.0.9 pytz-2023.3 scikit-learn-1.2.2 scipy-1.10.1 smart-open-6.3.0 spacy-3.5.2 spacy-legacy-3.0.12 spacy-loggers-1.0.4 srsly-2.4.6 sympy-1.11.1 thinc-8.1.9 threadpoolctl-3.1.0 torch-2.0.0 torchvision-0.15.1 tqdm-4.65.0 triton-2.0.0 typer-0.7.0 tzdata-2023.3 wasabi-1.1.1\n",
      "Note: you may need to restart the kernel to use updated packages.\n"
     ]
    }
   ],
   "source": [
    "pip install fastai"
   ]
  },
  {
   "cell_type": "code",
   "execution_count": 22,
   "id": "9fb6c228",
   "metadata": {},
   "outputs": [],
   "source": [
    "from duckduckgo_search import ddg_images\n",
    "from fastcore.all import * \n",
    "\n",
    "def search_images(temp, max_images=300):\n",
    "    return L((ddg_images(temp,max_results=max_images))).itemgot(\"image\")"
   ]
  },
  {
   "cell_type": "code",
   "execution_count": 43,
   "id": "ab299f6e",
   "metadata": {},
   "outputs": [
    {
     "name": "stdout",
     "output_type": "stream",
     "text": [
      "Enter object you want to see the images of:- cars\n",
      "Enter the number of images:- 5\n"
     ]
    }
   ],
   "source": [
    "im = input(\"Enter object you want to see the images of:- \")\n",
    "number = int(input(\"Enter the number of images:- \"))"
   ]
  },
  {
   "cell_type": "code",
   "execution_count": null,
   "id": "4f8096bb",
   "metadata": {},
   "outputs": [],
   "source": []
  },
  {
   "cell_type": "code",
   "execution_count": 44,
   "id": "f6494407",
   "metadata": {},
   "outputs": [],
   "source": [
    "os.chdir(\"photos\")\n",
    "from fastai.vision import * \n",
    "from time import sleep\n",
    "search = im\n",
    "path = Path(im)\n",
    "destination = (path/search)\n",
    "destination.mkdir(exist_ok = True, parents=True)\n",
    "download_images(destination, urls=search_images(f\"Futuristic images of {im}\", max_images=number))\n",
    "sleep(10)\n",
    "resize_images(path/im, max_sizes= 400, destination = path/im)\n",
    "\n",
    "os.chdir(\"../\")"
   ]
  },
  {
   "cell_type": "code",
   "execution_count": 45,
   "id": "702dc7b1",
   "metadata": {},
   "outputs": [
    {
     "name": "stdout",
     "output_type": "stream",
     "text": [
      "\u001b[0m\u001b[01;35m15f3a359-6d21-48f1-9dad-df3df0d184a8.jpg\u001b[0m\r\n",
      "\u001b[01;35m294ea163-296c-4e45-a03d-d8b31562e02d.jpeg\u001b[0m\r\n",
      "\u001b[01;35m3cc04f03-6532-4061-8197-b74b08c31b81.jpg\u001b[0m\r\n",
      "\u001b[01;35m40709cbf-64c7-4acf-a7cf-d2b90156d911.jpeg\u001b[0m\r\n",
      "\u001b[01;35m411b8bd2-8d0f-45c5-bf20-9b73c536c252.jpg\u001b[0m\r\n",
      "\u001b[01;35m48485676-5f2c-4444-97e8-d184ed3afc53.jpg\u001b[0m\r\n",
      "\u001b[01;35m4e15bfe2-c38b-439f-9463-77b836204d23.jpg\u001b[0m\r\n",
      "\u001b[01;35m8a51f3a9-b3f7-43d8-9982-5b7f28021c49.jpg\u001b[0m\r\n",
      "\u001b[01;35mb36bc37b-a628-4405-abdd-88b6d2c9093a.png\u001b[0m\r\n",
      "\u001b[01;35mb4f83bf1-9a0f-42f2-819e-13c81acb302f.jpg\u001b[0m\r\n",
      "\u001b[01;35mc2458bd4-1b96-4b88-a7e5-720690f56df5.jpg\u001b[0m\r\n",
      "\u001b[01;34mCamera\u001b[0m/\r\n",
      "\u001b[01;34mcars\u001b[0m/\r\n",
      "\u001b[01;35md61a8541-7562-4393-8479-8071213c63ed.jpg\u001b[0m\r\n",
      "\u001b[01;35me5cc8d6e-ff0e-40f3-91b6-5200b6a34258.jpg\u001b[0m\r\n",
      "\u001b[01;35mec3d1b3b-4d1d-4b5e-a8f8-80677e31fdd6.jpg\u001b[0m\r\n",
      "\u001b[01;35mf6262e7e-5bd7-47c7-92d6-2a0e4d8f9538.jpg\u001b[0m\r\n"
     ]
    }
   ],
   "source": []
  },
  {
   "cell_type": "code",
   "execution_count": null,
   "id": "2e3468ea",
   "metadata": {},
   "outputs": [],
   "source": []
  }
 ],
 "metadata": {
  "kernelspec": {
   "display_name": "Python 3 (ipykernel)",
   "language": "python",
   "name": "python3"
  },
  "language_info": {
   "codemirror_mode": {
    "name": "ipython",
    "version": 3
   },
   "file_extension": ".py",
   "mimetype": "text/x-python",
   "name": "python",
   "nbconvert_exporter": "python",
   "pygments_lexer": "ipython3",
   "version": "3.8.10"
  }
 },
 "nbformat": 4,
 "nbformat_minor": 5
}
