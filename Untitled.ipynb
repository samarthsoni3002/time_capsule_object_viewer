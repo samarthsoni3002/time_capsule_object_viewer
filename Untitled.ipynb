{
 "cells": [
  {
   "cell_type": "code",
   "execution_count": 13,
   "id": "f730f568",
   "metadata": {},
   "outputs": [
    {
     "name": "stdout",
     "output_type": "stream",
     "text": [
      "Requirement already satisfied: duckduckgo_search in /home/samarth/.local/lib/python3.8/site-packages (2.8.6)\n",
      "Requirement already satisfied: click>=8.1.3 in /home/samarth/.local/lib/python3.8/site-packages (from duckduckgo_search) (8.1.3)\n",
      "Requirement already satisfied: requests>=2.28.2 in /home/samarth/.local/lib/python3.8/site-packages (from duckduckgo_search) (2.28.2)\n",
      "Requirement already satisfied: charset-normalizer<4,>=2 in /home/samarth/.local/lib/python3.8/site-packages (from requests>=2.28.2->duckduckgo_search) (3.1.0)\n",
      "Requirement already satisfied: idna<4,>=2.5 in /usr/lib/python3/dist-packages (from requests>=2.28.2->duckduckgo_search) (2.8)\n",
      "Requirement already satisfied: urllib3<1.27,>=1.21.1 in /usr/lib/python3/dist-packages (from requests>=2.28.2->duckduckgo_search) (1.25.8)\n",
      "Requirement already satisfied: certifi>=2017.4.17 in /usr/lib/python3/dist-packages (from requests>=2.28.2->duckduckgo_search) (2019.11.28)\n",
      "Note: you may need to restart the kernel to use updated packages.\n"
     ]
    }
   ],
   "source": [
    "pip install duckduckgo_search"
   ]
  },
  {
   "cell_type": "code",
   "execution_count": 14,
   "id": "d83cf954",
   "metadata": {},
   "outputs": [
    {
     "name": "stdout",
     "output_type": "stream",
     "text": [
      "Collecting fastcore\n",
      "  Downloading fastcore-1.5.29-py3-none-any.whl (67 kB)\n",
      "\u001b[K     |████████████████████████████████| 67 kB 658 kB/s eta 0:00:011\n",
      "\u001b[?25hRequirement already satisfied: packaging in /home/samarth/.local/lib/python3.8/site-packages (from fastcore) (23.1)\n",
      "Requirement already satisfied: pip in /usr/lib/python3/dist-packages (from fastcore) (20.0.2)\n",
      "Installing collected packages: fastcore\n",
      "Successfully installed fastcore-1.5.29\n",
      "Note: you may need to restart the kernel to use updated packages.\n"
     ]
    }
   ],
   "source": [
    "pip install fastcore"
   ]
  },
  {
   "cell_type": "code",
   "execution_count": null,
   "id": "ea912a99",
   "metadata": {},
   "outputs": [
    {
     "name": "stdout",
     "output_type": "stream",
     "text": [
      "Collecting fastai\n",
      "  Downloading fastai-2.7.12-py3-none-any.whl (233 kB)\n",
      "\u001b[K     |████████████████████████████████| 233 kB 867 kB/s eta 0:00:01\n",
      "\u001b[?25hRequirement already satisfied: packaging in /home/samarth/.local/lib/python3.8/site-packages (from fastai) (23.1)\n",
      "Collecting fastdownload<2,>=0.0.5\n",
      "  Downloading fastdownload-0.0.7-py3-none-any.whl (12 kB)\n",
      "Collecting scipy\n",
      "  Downloading scipy-1.10.1-cp38-cp38-manylinux_2_17_x86_64.manylinux2014_x86_64.whl (34.5 MB)\n",
      "\u001b[K     |████████████████████████████████| 34.5 MB 6.5 MB/s eta 0:00:01\n",
      "\u001b[?25hCollecting torchvision>=0.8.2\n",
      "  Downloading torchvision-0.15.1-cp38-cp38-manylinux1_x86_64.whl (33.8 MB)\n",
      "\u001b[K     |████████████████████████████████| 33.8 MB 755 kB/s eta 0:00:01\n",
      "\u001b[?25hCollecting pandas\n",
      "  Downloading pandas-2.0.0-cp38-cp38-manylinux_2_17_x86_64.manylinux2014_x86_64.whl (12.3 MB)\n",
      "\u001b[K     |████████████████████████████████| 12.3 MB 697 kB/s eta 0:00:01\n",
      "\u001b[?25hCollecting fastprogress>=0.2.4\n",
      "  Downloading fastprogress-1.0.3-py3-none-any.whl (12 kB)\n",
      "Collecting scikit-learn\n",
      "  Downloading scikit_learn-1.2.2-cp38-cp38-manylinux_2_17_x86_64.manylinux2014_x86_64.whl (9.8 MB)\n",
      "\u001b[K     |████████████████████████████████| 9.8 MB 562 kB/s eta 0:00:01\n",
      "\u001b[?25hRequirement already satisfied: fastcore<1.6,>=1.5.29 in /home/samarth/.local/lib/python3.8/site-packages (from fastai) (1.5.29)\n",
      "Requirement already satisfied: pip in /usr/lib/python3/dist-packages (from fastai) (20.0.2)\n",
      "Requirement already satisfied: pyyaml in /usr/lib/python3/dist-packages (from fastai) (5.3.1)\n",
      "Collecting spacy<4\n",
      "  Downloading spacy-3.5.2-cp38-cp38-manylinux_2_17_x86_64.manylinux2014_x86_64.whl (6.8 MB)\n",
      "\u001b[K     |████████████████████████████████| 6.8 MB 591 kB/s eta 0:00:01\n",
      "\u001b[?25hCollecting matplotlib\n",
      "  Downloading matplotlib-3.7.1-cp38-cp38-manylinux_2_12_x86_64.manylinux2010_x86_64.whl (9.2 MB)\n",
      "\u001b[K     |████████████████████████████████| 9.2 MB 434 kB/s eta 0:00:01\n",
      "\u001b[?25hRequirement already satisfied: pillow>6.0.0 in /usr/lib/python3/dist-packages (from fastai) (7.0.0)\n",
      "Collecting torch<2.1,>=1.7\n",
      "  Downloading torch-2.0.0-cp38-cp38-manylinux1_x86_64.whl (619.9 MB)\n",
      "\u001b[K     |███████████████████▋            | 380.2 MB 775 kB/s eta 0:05:09     |████████████                    | 232.6 MB 740 kB/s eta 0:08:43"
     ]
    }
   ],
   "source": [
    "pip install fastai"
   ]
  },
  {
   "cell_type": "code",
   "execution_count": 16,
   "id": "0c121448",
   "metadata": {},
   "outputs": [],
   "source": [
    "from duckduckgo_search import ddg_images\n",
    "from fastcore.all import * \n",
    "\n",
    "def search_images(temp, max_images=300):\n",
    "    return L((ddg_images(temp,max_results=max_images))).itemgot(\"image\")"
   ]
  },
  {
   "cell_type": "code",
   "execution_count": 17,
   "id": "325f98aa",
   "metadata": {},
   "outputs": [
    {
     "name": "stdout",
     "output_type": "stream",
     "text": [
      "Enter object you want to see the images of:- camera\n",
      "Enter the number of images:- 10\n"
     ]
    }
   ],
   "source": [
    "im = input(\"Enter object you want to see the images of:- \")\n",
    "number = int(input(\"Enter the number of images:- \"))"
   ]
  },
  {
   "cell_type": "code",
   "execution_count": null,
   "id": "7b35d72b",
   "metadata": {},
   "outputs": [],
   "source": []
  },
  {
   "cell_type": "code",
   "execution_count": null,
   "id": "f752c830",
   "metadata": {},
   "outputs": [],
   "source": [
    "from fastai.vision import * \n",
    "from time import sleep\n",
    "search = im\n",
    "path = Path(im)\n",
    "destination = (path/search)\n",
    "destination.mkdir(exsist_ok = True, parent=True)\n",
    "download_images(destination, urls=(f\"Futuristic images of {im}\"))\n",
    "sleep(10)\n",
    "resize_images(path/im, max_sizes= 400, path/im)"
   ]
  }
 ],
 "metadata": {
  "kernelspec": {
   "display_name": "Python 3 (ipykernel)",
   "language": "python",
   "name": "python3"
  },
  "language_info": {
   "codemirror_mode": {
    "name": "ipython",
    "version": 3
   },
   "file_extension": ".py",
   "mimetype": "text/x-python",
   "name": "python",
   "nbconvert_exporter": "python",
   "pygments_lexer": "ipython3",
   "version": "3.8.10"
  }
 },
 "nbformat": 4,
 "nbformat_minor": 5
}
